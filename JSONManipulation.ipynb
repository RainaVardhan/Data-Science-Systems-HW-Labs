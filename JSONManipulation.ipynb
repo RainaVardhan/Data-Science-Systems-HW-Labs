{
  "nbformat": 4,
  "nbformat_minor": 0,
  "metadata": {
    "colab": {
      "provenance": [],
      "authorship_tag": "ABX9TyMu7LNkVL70EzWAdXrzdP8y",
      "include_colab_link": true
    },
    "kernelspec": {
      "name": "python3",
      "display_name": "Python 3"
    },
    "language_info": {
      "name": "python"
    }
  },
  "cells": [
    {
      "cell_type": "markdown",
      "metadata": {
        "id": "view-in-github",
        "colab_type": "text"
      },
      "source": [
        "<a href=\"https://colab.research.google.com/github/RainaVardhan/Data-Science-Systems-HW-Labs/blob/main/JSONManipulation.ipynb\" target=\"_parent\"><img src=\"https://colab.research.google.com/assets/colab-badge.svg\" alt=\"Open In Colab\"/></a>"
      ]
    },
    {
      "cell_type": "code",
      "source": [
        "#Q1\n",
        "import numpy as np\n",
        "import pandas as pd\n",
        "url = \"https://raw.githubusercontent.com/jasonwnc/ds2002s24/main/2.%20Python/coll%20bb_SortByConf.json\"\n"
      ],
      "metadata": {
        "id": "5mNur2P1WeAx"
      },
      "execution_count": null,
      "outputs": []
    },
    {
      "cell_type": "code",
      "source": [
        "#Q2\n",
        "df = pd.read_json(url)\n",
        "df = pd.json_normalize(df['teams'])\n",
        "print(df)"
      ],
      "metadata": {
        "colab": {
          "base_uri": "https://localhost:8080/"
        },
        "id": "tP2083RVd_k0",
        "outputId": "68478a92-9ae6-440d-dbf9-325fe71003a3"
      },
      "execution_count": null,
      "outputs": [
        {
          "output_type": "stream",
          "name": "stdout",
          "text": [
            "     tid  cid  did                region        name abbrev  pop  \\\n",
            "0    159    0    0        Boston College      Eagles     BC  161   \n",
            "1    105    0    0               Clemson      Tigers   CLEM  215   \n",
            "2    109    0    0         Florida State   Seminoles    FSU  211   \n",
            "3     18    0    0            Louisville   Cardinals     UL  302   \n",
            "4     31    0    0  North Carolina State    Wolfpack   NCST  289   \n",
            "..   ...  ...  ...                   ...         ...    ...  ...   \n",
            "315  297   19   39                 Omaha   Mavericks  OMAHA   23   \n",
            "316  240   19   39               Houston     Cougars    HOU   80   \n",
            "317   88   19   39               Memphis      Tigers   MEMP  232   \n",
            "318  212   19   39                Tulane  Green Wave    TUL  108   \n",
            "319  287   19   39       Houston Baptist     Huskies    HBU   33   \n",
            "\n",
            "                   city state  latitude  longitude  \n",
            "0         Chestnut Hill    MA    42.330    -71.166  \n",
            "1               Clemson    SC    34.678    -82.839  \n",
            "2           Tallahassee    FL    30.442    -84.298  \n",
            "3            Louisville    KY    38.250    -85.766  \n",
            "4               Raleigh    NC    35.786    -78.682  \n",
            "..                  ...   ...       ...        ...  \n",
            "315               Omaha    NE    41.259    -96.005  \n",
            "316             Houston    TX    29.718    -95.339  \n",
            "317             Memphis    TN    35.119    -89.937  \n",
            "318         New Orleans    NO    29.935    -90.122  \n",
            "319  Greater Sharpstown    TX    29.694    -95.515  \n",
            "\n",
            "[320 rows x 11 columns]\n"
          ]
        }
      ]
    },
    {
      "cell_type": "code",
      "execution_count": null,
      "metadata": {
        "colab": {
          "base_uri": "https://localhost:8080/"
        },
        "id": "hZykVWy9Ux3U",
        "outputId": "670f5e02-bff2-4973-e11d-8a48a188d830"
      },
      "outputs": [
        {
          "output_type": "stream",
          "name": "stdout",
          "text": [
            "    tid  cid  did                region       name  abbrev  pop  \\\n",
            "0   159    0    0        Boston College     Eagles      BC  161   \n",
            "1   105    0    0               Clemson     Tigers    CLEM  215   \n",
            "2   109    0    0         Florida State  Seminoles     FSU  211   \n",
            "3    18    0    0            Louisville  Cardinals      UL  302   \n",
            "4    31    0    0  North Carolina State   Wolfpack    NCST  289   \n",
            "..  ...  ...  ...                   ...        ...     ...  ...   \n",
            "95  300    5   11    Jacksonville State  Gamecocks  JVILLE   20   \n",
            "96   72    6   12    Eastern Washington     Eagles   EWASH  248   \n",
            "97  139    6   12      Sacramento State    Hornets   SACST  181   \n",
            "98  239    6   12     Northern Colorado      Bears   NOCOL   81   \n",
            "99  266    6   12                 Idaho    Vandals      UI   54   \n",
            "\n",
            "             city state  latitude  longitude  \n",
            "0   Chestnut Hill    MA    42.330    -71.166  \n",
            "1         Clemson    SC    34.678    -82.839  \n",
            "2     Tallahassee    FL    30.442    -84.298  \n",
            "3      Louisville    KY    38.250    -85.766  \n",
            "4         Raleigh    NC    35.786    -78.682  \n",
            "..            ...   ...       ...        ...  \n",
            "95   Jacksonville    AL    33.815    -85.760  \n",
            "96         Cheney    WA    47.488   -117.578  \n",
            "97     Sacramento    CA    38.555   -121.468  \n",
            "98        Greeley    CO    40.416   -104.716  \n",
            "99         Moscow    ID    46.730   -117.000  \n",
            "\n",
            "[100 rows x 11 columns]\n"
          ]
        }
      ],
      "source": [
        "#Q3.\n",
        "print(df.head(100))"
      ]
    },
    {
      "cell_type": "code",
      "source": [
        "#Q4a.\n",
        "print(df.shape[0])"
      ],
      "metadata": {
        "colab": {
          "base_uri": "https://localhost:8080/"
        },
        "id": "pQDRVHoBXd_A",
        "outputId": "87185030-22b5-4fbc-87ba-ebbd318fab4f"
      },
      "execution_count": null,
      "outputs": [
        {
          "output_type": "stream",
          "name": "stdout",
          "text": [
            "320\n"
          ]
        }
      ]
    },
    {
      "cell_type": "code",
      "source": [
        "#Q4b.\n",
        "print(df[df['state']=='VA'].shape[0])"
      ],
      "metadata": {
        "colab": {
          "base_uri": "https://localhost:8080/"
        },
        "id": "U1rab14Qd369",
        "outputId": "ca548dd1-171f-4f51-80e9-9db4efaa1216"
      },
      "execution_count": null,
      "outputs": [
        {
          "output_type": "stream",
          "name": "stdout",
          "text": [
            "13\n"
          ]
        }
      ]
    },
    {
      "cell_type": "code",
      "source": [
        "#Q4c.\n",
        "duplicate = df[df.duplicated('name', keep=False)]\n",
        "duplicate['name'].value_counts()>1\n",
        "print(duplicate['name'].value_counts())"
      ],
      "metadata": {
        "colab": {
          "base_uri": "https://localhost:8080/"
        },
        "id": "UYJyyCnBevj5",
        "outputId": "4a30b920-83ed-4ef0-c16e-2df50b018f1d"
      },
      "execution_count": null,
      "outputs": [
        {
          "output_type": "stream",
          "name": "stdout",
          "text": [
            "Bulldogs         13\n",
            "Eagles           10\n",
            "Tigers            9\n",
            "Panthers          8\n",
            "Wildcats          8\n",
            "Huskies           5\n",
            "Aggies            4\n",
            "Bears             4\n",
            "Rams              4\n",
            "Cougars           4\n",
            "Hawks             4\n",
            "Spartans          4\n",
            "Golden Eagles     4\n",
            "Cardinals         4\n",
            "Owls              4\n",
            "Cowboys           3\n",
            "Terriers          3\n",
            "Redhawks          3\n",
            "Hornets           3\n",
            "Bobcats           3\n",
            "Pirates           3\n",
            "Mountaineers      3\n",
            "Broncos           3\n",
            "Vikings           3\n",
            "Trojans           3\n",
            "Jaguars           3\n",
            "Knights           2\n",
            "Highlanders       2\n",
            "Bulls             2\n",
            "Dukes             2\n",
            "Colonials         2\n",
            "Catamounts        2\n",
            "Buccaneers        2\n",
            "Raiders           2\n",
            "Bison             2\n",
            "Mustangs          2\n",
            "Mavericks         2\n",
            "49ers             2\n",
            "Gaels             2\n",
            "Roadrunners       2\n",
            "Bisons            2\n",
            "Lumberjacks       2\n",
            "Lions             2\n",
            "Titans            2\n",
            "Phoenix           2\n",
            "Crusaders         2\n",
            "Bruins            2\n",
            "Pioneers          2\n",
            "Rebels            2\n",
            "Gamecocks         2\n",
            "Wolverines        2\n",
            "Falcons           2\n",
            "Name: name, dtype: int64\n"
          ]
        }
      ]
    }
  ]
}