{
  "nbformat": 4,
  "nbformat_minor": 0,
  "metadata": {
    "colab": {
      "provenance": [],
      "gpuType": "T4",
      "authorship_tag": "ABX9TyMQQngKlWHoWRhSD1fU8fpW",
      "include_colab_link": true
    },
    "kernelspec": {
      "name": "python3",
      "display_name": "Python 3"
    },
    "language_info": {
      "name": "python"
    },
    "accelerator": "GPU"
  },
  "cells": [
    {
      "cell_type": "markdown",
      "metadata": {
        "id": "view-in-github",
        "colab_type": "text"
      },
      "source": [
        "<a href=\"https://colab.research.google.com/github/RainaVardhan/Data-Science-Systems-HW-Labs/blob/main/RainaVardhan/BuildingAChatbot/Chatbot.ipynb\" target=\"_parent\"><img src=\"https://colab.research.google.com/assets/colab-badge.svg\" alt=\"Open In Colab\"/></a>"
      ]
    },
    {
      "cell_type": "code",
      "source": [
        "!pip install tensorflow"
      ],
      "metadata": {
        "colab": {
          "base_uri": "https://localhost:8080/"
        },
        "id": "TMOZBXNhb41n",
        "outputId": "2e2b36eb-b6f5-481c-8461-b71d9cda62fd"
      },
      "execution_count": 258,
      "outputs": [
        {
          "output_type": "stream",
          "name": "stdout",
          "text": [
            "Requirement already satisfied: tensorflow in /usr/local/lib/python3.10/dist-packages (2.15.0)\n",
            "Requirement already satisfied: absl-py>=1.0.0 in /usr/local/lib/python3.10/dist-packages (from tensorflow) (1.4.0)\n",
            "Requirement already satisfied: astunparse>=1.6.0 in /usr/local/lib/python3.10/dist-packages (from tensorflow) (1.6.3)\n",
            "Requirement already satisfied: flatbuffers>=23.5.26 in /usr/local/lib/python3.10/dist-packages (from tensorflow) (24.3.25)\n",
            "Requirement already satisfied: gast!=0.5.0,!=0.5.1,!=0.5.2,>=0.2.1 in /usr/local/lib/python3.10/dist-packages (from tensorflow) (0.5.4)\n",
            "Requirement already satisfied: google-pasta>=0.1.1 in /usr/local/lib/python3.10/dist-packages (from tensorflow) (0.2.0)\n",
            "Requirement already satisfied: h5py>=2.9.0 in /usr/local/lib/python3.10/dist-packages (from tensorflow) (3.9.0)\n",
            "Requirement already satisfied: libclang>=13.0.0 in /usr/local/lib/python3.10/dist-packages (from tensorflow) (18.1.1)\n",
            "Requirement already satisfied: ml-dtypes~=0.2.0 in /usr/local/lib/python3.10/dist-packages (from tensorflow) (0.2.0)\n",
            "Requirement already satisfied: numpy<2.0.0,>=1.23.5 in /usr/local/lib/python3.10/dist-packages (from tensorflow) (1.25.2)\n",
            "Requirement already satisfied: opt-einsum>=2.3.2 in /usr/local/lib/python3.10/dist-packages (from tensorflow) (3.3.0)\n",
            "Requirement already satisfied: packaging in /usr/local/lib/python3.10/dist-packages (from tensorflow) (24.0)\n",
            "Requirement already satisfied: protobuf!=4.21.0,!=4.21.1,!=4.21.2,!=4.21.3,!=4.21.4,!=4.21.5,<5.0.0dev,>=3.20.3 in /usr/local/lib/python3.10/dist-packages (from tensorflow) (3.20.3)\n",
            "Requirement already satisfied: setuptools in /usr/local/lib/python3.10/dist-packages (from tensorflow) (67.7.2)\n",
            "Requirement already satisfied: six>=1.12.0 in /usr/local/lib/python3.10/dist-packages (from tensorflow) (1.16.0)\n",
            "Requirement already satisfied: termcolor>=1.1.0 in /usr/local/lib/python3.10/dist-packages (from tensorflow) (2.4.0)\n",
            "Requirement already satisfied: typing-extensions>=3.6.6 in /usr/local/lib/python3.10/dist-packages (from tensorflow) (4.11.0)\n",
            "Requirement already satisfied: wrapt<1.15,>=1.11.0 in /usr/local/lib/python3.10/dist-packages (from tensorflow) (1.14.1)\n",
            "Requirement already satisfied: tensorflow-io-gcs-filesystem>=0.23.1 in /usr/local/lib/python3.10/dist-packages (from tensorflow) (0.36.0)\n",
            "Requirement already satisfied: grpcio<2.0,>=1.24.3 in /usr/local/lib/python3.10/dist-packages (from tensorflow) (1.62.1)\n",
            "Requirement already satisfied: tensorboard<2.16,>=2.15 in /usr/local/lib/python3.10/dist-packages (from tensorflow) (2.15.2)\n",
            "Requirement already satisfied: tensorflow-estimator<2.16,>=2.15.0 in /usr/local/lib/python3.10/dist-packages (from tensorflow) (2.15.0)\n",
            "Requirement already satisfied: keras<2.16,>=2.15.0 in /usr/local/lib/python3.10/dist-packages (from tensorflow) (2.15.0)\n",
            "Requirement already satisfied: wheel<1.0,>=0.23.0 in /usr/local/lib/python3.10/dist-packages (from astunparse>=1.6.0->tensorflow) (0.43.0)\n",
            "Requirement already satisfied: google-auth<3,>=1.6.3 in /usr/local/lib/python3.10/dist-packages (from tensorboard<2.16,>=2.15->tensorflow) (2.27.0)\n",
            "Requirement already satisfied: google-auth-oauthlib<2,>=0.5 in /usr/local/lib/python3.10/dist-packages (from tensorboard<2.16,>=2.15->tensorflow) (1.2.0)\n",
            "Requirement already satisfied: markdown>=2.6.8 in /usr/local/lib/python3.10/dist-packages (from tensorboard<2.16,>=2.15->tensorflow) (3.6)\n",
            "Requirement already satisfied: requests<3,>=2.21.0 in /usr/local/lib/python3.10/dist-packages (from tensorboard<2.16,>=2.15->tensorflow) (2.31.0)\n",
            "Requirement already satisfied: tensorboard-data-server<0.8.0,>=0.7.0 in /usr/local/lib/python3.10/dist-packages (from tensorboard<2.16,>=2.15->tensorflow) (0.7.2)\n",
            "Requirement already satisfied: werkzeug>=1.0.1 in /usr/local/lib/python3.10/dist-packages (from tensorboard<2.16,>=2.15->tensorflow) (3.0.2)\n",
            "Requirement already satisfied: cachetools<6.0,>=2.0.0 in /usr/local/lib/python3.10/dist-packages (from google-auth<3,>=1.6.3->tensorboard<2.16,>=2.15->tensorflow) (5.3.3)\n",
            "Requirement already satisfied: pyasn1-modules>=0.2.1 in /usr/local/lib/python3.10/dist-packages (from google-auth<3,>=1.6.3->tensorboard<2.16,>=2.15->tensorflow) (0.4.0)\n",
            "Requirement already satisfied: rsa<5,>=3.1.4 in /usr/local/lib/python3.10/dist-packages (from google-auth<3,>=1.6.3->tensorboard<2.16,>=2.15->tensorflow) (4.9)\n",
            "Requirement already satisfied: requests-oauthlib>=0.7.0 in /usr/local/lib/python3.10/dist-packages (from google-auth-oauthlib<2,>=0.5->tensorboard<2.16,>=2.15->tensorflow) (1.3.1)\n",
            "Requirement already satisfied: charset-normalizer<4,>=2 in /usr/local/lib/python3.10/dist-packages (from requests<3,>=2.21.0->tensorboard<2.16,>=2.15->tensorflow) (3.3.2)\n",
            "Requirement already satisfied: idna<4,>=2.5 in /usr/local/lib/python3.10/dist-packages (from requests<3,>=2.21.0->tensorboard<2.16,>=2.15->tensorflow) (3.6)\n",
            "Requirement already satisfied: urllib3<3,>=1.21.1 in /usr/local/lib/python3.10/dist-packages (from requests<3,>=2.21.0->tensorboard<2.16,>=2.15->tensorflow) (2.0.7)\n",
            "Requirement already satisfied: certifi>=2017.4.17 in /usr/local/lib/python3.10/dist-packages (from requests<3,>=2.21.0->tensorboard<2.16,>=2.15->tensorflow) (2024.2.2)\n",
            "Requirement already satisfied: MarkupSafe>=2.1.1 in /usr/local/lib/python3.10/dist-packages (from werkzeug>=1.0.1->tensorboard<2.16,>=2.15->tensorflow) (2.1.5)\n",
            "Requirement already satisfied: pyasn1<0.7.0,>=0.4.6 in /usr/local/lib/python3.10/dist-packages (from pyasn1-modules>=0.2.1->google-auth<3,>=1.6.3->tensorboard<2.16,>=2.15->tensorflow) (0.6.0)\n",
            "Requirement already satisfied: oauthlib>=3.0.0 in /usr/local/lib/python3.10/dist-packages (from requests-oauthlib>=0.7.0->google-auth-oauthlib<2,>=0.5->tensorboard<2.16,>=2.15->tensorflow) (3.2.2)\n"
          ]
        }
      ]
    },
    {
      "cell_type": "code",
      "source": [
        "import tensorflow as tf\n",
        "from tensorflow.keras.layers import Input, LSTM, Dense, Embedding\n",
        "from tensorflow.keras.models import Model\n",
        "import numpy as np"
      ],
      "metadata": {
        "id": "Qkx_X2EmcJFd"
      },
      "execution_count": 259,
      "outputs": []
    },
    {
      "cell_type": "code",
      "source": [
        "questions = [\n",
        "    'Hello',\n",
        "    'How are you?',\n",
        "    'What is your name?',\n",
        "    'What is TensorFlow?',\n",
        "    'Do you like Python?'\n",
        "]\n",
        "\n",
        "answers = [\n",
        "    'Hi! How can I help you today?',\n",
        "    'I am doing fine.',\n",
        "    'I do not have a name.',\n",
        "    'TensorFlow is a machine learning models.',\n",
        "    'Yes, Python is one of my favorite programming languages.'\n",
        "]"
      ],
      "metadata": {
        "id": "oIW4GbMMcLLt"
      },
      "execution_count": 260,
      "outputs": []
    },
    {
      "cell_type": "code",
      "source": [
        "tokenizer = tf.keras.preprocessing.text.Tokenizer()\n",
        "tokenizer.fit_on_texts(questions + answers)\n",
        "sequences_questions = tokenizer.texts_to_sequences(questions)\n",
        "sequences_answers = tokenizer.texts_to_sequences(answers)"
      ],
      "metadata": {
        "id": "HdDq553fgw1D"
      },
      "execution_count": 261,
      "outputs": []
    },
    {
      "cell_type": "code",
      "source": [
        "max_length = max(max(len(seq) for seq in sequences_questions), max(len(seq) for seq in sequences_answers))\n",
        "padded_questions = tf.keras.preprocessing.sequence.pad_sequences(sequences_questions, maxlen=max_length, padding='post')\n",
        "padded_answers = tf.keras.preprocessing.sequence.pad_sequences(sequences_answers, maxlen=max_length, padding='post')"
      ],
      "metadata": {
        "id": "GFwPN99kxhGi"
      },
      "execution_count": 262,
      "outputs": []
    },
    {
      "cell_type": "code",
      "source": [
        "vocab_size = len(tokenizer.word_index) + 1"
      ],
      "metadata": {
        "id": "4hraSb3gxipO"
      },
      "execution_count": 263,
      "outputs": []
    },
    {
      "cell_type": "code",
      "source": [
        "embedding_dim = 256\n",
        "units = 1024"
      ],
      "metadata": {
        "id": "592mUQzfhBTF"
      },
      "execution_count": 264,
      "outputs": []
    },
    {
      "cell_type": "code",
      "source": [
        "encoder_inputs = Input(shape=(None,))\n",
        "encoder_embedding = Embedding(vocab_size, embedding_dim)(encoder_inputs)\n",
        "encoder_outputs, state_h, state_c = LSTM(units, return_state=True)(encoder_embedding)\n",
        "encoder_states = [state_h, state_c]"
      ],
      "metadata": {
        "id": "UHjd1wCoxyTl"
      },
      "execution_count": 265,
      "outputs": []
    },
    {
      "cell_type": "code",
      "source": [
        "decoder_inputs = Input(shape=(None,))\n",
        "decoder_embedding = Embedding(vocab_size, embedding_dim)(decoder_inputs)\n",
        "decoder_lstm = LSTM(units, return_sequences=True, return_state=True)\n",
        "decoder_outputs, _, _ = decoder_lstm(decoder_embedding, initial_state=encoder_states)\n",
        "decoder_dense = Dense(vocab_size, activation='softmax')\n",
        "decoder_outputs = decoder_dense(decoder_outputs)"
      ],
      "metadata": {
        "id": "hcSsrTqex2X0"
      },
      "execution_count": 266,
      "outputs": []
    },
    {
      "cell_type": "code",
      "source": [
        "model = Model([encoder_inputs, decoder_inputs], decoder_outputs)\n",
        "model.compile(optimizer='rmsprop', loss='sparse_categorical_crossentropy', metrics=['accuracy'])\n",
        "model.summary()"
      ],
      "metadata": {
        "colab": {
          "base_uri": "https://localhost:8080/"
        },
        "id": "llrgUouRx37Z",
        "outputId": "61525b1e-8ce6-4c5e-a5e5-6e5dae0848d1"
      },
      "execution_count": 267,
      "outputs": [
        {
          "output_type": "stream",
          "name": "stdout",
          "text": [
            "Model: \"model_15\"\n",
            "__________________________________________________________________________________________________\n",
            " Layer (type)                Output Shape                 Param #   Connected to                  \n",
            "==================================================================================================\n",
            " input_30 (InputLayer)       [(None, None)]               0         []                            \n",
            "                                                                                                  \n",
            " input_31 (InputLayer)       [(None, None)]               0         []                            \n",
            "                                                                                                  \n",
            " embedding_29 (Embedding)    (None, None, 256)            8704      ['input_30[0][0]']            \n",
            "                                                                                                  \n",
            " embedding_30 (Embedding)    (None, None, 256)            8704      ['input_31[0][0]']            \n",
            "                                                                                                  \n",
            " lstm_29 (LSTM)              [(None, 1024),               5246976   ['embedding_29[0][0]']        \n",
            "                              (None, 1024),                                                       \n",
            "                              (None, 1024)]                                                       \n",
            "                                                                                                  \n",
            " lstm_30 (LSTM)              [(None, None, 1024),         5246976   ['embedding_30[0][0]',        \n",
            "                              (None, 1024),                          'lstm_29[0][1]',             \n",
            "                              (None, 1024)]                          'lstm_29[0][2]']             \n",
            "                                                                                                  \n",
            " dense_14 (Dense)            (None, None, 34)             34850     ['lstm_30[0][0]']             \n",
            "                                                                                                  \n",
            "==================================================================================================\n",
            "Total params: 10546210 (40.23 MB)\n",
            "Trainable params: 10546210 (40.23 MB)\n",
            "Non-trainable params: 0 (0.00 Byte)\n",
            "__________________________________________________________________________________________________\n"
          ]
        }
      ]
    },
    {
      "cell_type": "code",
      "source": [
        "decoder_input_data = np.zeros_like(padded_answers)\n",
        "decoder_input_data[:, 0] = 1\n",
        "model.fit([padded_questions, decoder_input_data], np.expand_dims(padded_answers, -1), batch_size=2, epochs=100)"
      ],
      "metadata": {
        "id": "AUKOZSnkzsj3",
        "colab": {
          "base_uri": "https://localhost:8080/"
        },
        "outputId": "bdfd36ce-b90d-4c85-ab16-c829daee9ce1"
      },
      "execution_count": 268,
      "outputs": [
        {
          "output_type": "stream",
          "name": "stdout",
          "text": [
            "Epoch 1/100\n",
            "3/3 [==============================] - 6s 144ms/step - loss: 3.4223 - accuracy: 0.2444\n",
            "Epoch 2/100\n",
            "3/3 [==============================] - 0s 22ms/step - loss: 3.2890 - accuracy: 0.3111\n",
            "Epoch 3/100\n",
            "3/3 [==============================] - 0s 63ms/step - loss: 3.0065 - accuracy: 0.3333\n",
            "Epoch 4/100\n",
            "3/3 [==============================] - 0s 127ms/step - loss: 2.7817 - accuracy: 0.3333\n",
            "Epoch 5/100\n",
            "3/3 [==============================] - 0s 22ms/step - loss: 2.7719 - accuracy: 0.3333\n",
            "Epoch 6/100\n",
            "3/3 [==============================] - 0s 59ms/step - loss: 2.9101 - accuracy: 0.3333\n",
            "Epoch 7/100\n",
            "3/3 [==============================] - 0s 16ms/step - loss: 2.6678 - accuracy: 0.3333\n",
            "Epoch 8/100\n",
            "3/3 [==============================] - 0s 15ms/step - loss: 2.6505 - accuracy: 0.3333\n",
            "Epoch 9/100\n",
            "3/3 [==============================] - 0s 16ms/step - loss: 2.5867 - accuracy: 0.2667\n",
            "Epoch 10/100\n",
            "3/3 [==============================] - 0s 15ms/step - loss: 2.5661 - accuracy: 0.2889\n",
            "Epoch 11/100\n",
            "3/3 [==============================] - 0s 13ms/step - loss: 2.5302 - accuracy: 0.3333\n",
            "Epoch 12/100\n",
            "3/3 [==============================] - 0s 13ms/step - loss: 2.3114 - accuracy: 0.3333\n",
            "Epoch 13/100\n",
            "3/3 [==============================] - 0s 13ms/step - loss: 2.2948 - accuracy: 0.3556\n",
            "Epoch 14/100\n",
            "3/3 [==============================] - 0s 13ms/step - loss: 2.2070 - accuracy: 0.3778\n",
            "Epoch 15/100\n",
            "3/3 [==============================] - 0s 13ms/step - loss: 2.1053 - accuracy: 0.3778\n",
            "Epoch 16/100\n",
            "3/3 [==============================] - 0s 13ms/step - loss: 2.3143 - accuracy: 0.3778\n",
            "Epoch 17/100\n",
            "3/3 [==============================] - 0s 12ms/step - loss: 2.2332 - accuracy: 0.3111\n",
            "Epoch 18/100\n",
            "3/3 [==============================] - 0s 14ms/step - loss: 2.2989 - accuracy: 0.3111\n",
            "Epoch 19/100\n",
            "3/3 [==============================] - 0s 12ms/step - loss: 2.0479 - accuracy: 0.3778\n",
            "Epoch 20/100\n",
            "3/3 [==============================] - 0s 13ms/step - loss: 1.9597 - accuracy: 0.3556\n",
            "Epoch 21/100\n",
            "3/3 [==============================] - 0s 14ms/step - loss: 2.4025 - accuracy: 0.2889\n",
            "Epoch 22/100\n",
            "3/3 [==============================] - 0s 13ms/step - loss: 1.9665 - accuracy: 0.3556\n",
            "Epoch 23/100\n",
            "3/3 [==============================] - 0s 12ms/step - loss: 2.2164 - accuracy: 0.3333\n",
            "Epoch 24/100\n",
            "3/3 [==============================] - 0s 12ms/step - loss: 1.8089 - accuracy: 0.4000\n",
            "Epoch 25/100\n",
            "3/3 [==============================] - 0s 12ms/step - loss: 1.7377 - accuracy: 0.4000\n",
            "Epoch 26/100\n",
            "3/3 [==============================] - 0s 12ms/step - loss: 1.7877 - accuracy: 0.4444\n",
            "Epoch 27/100\n",
            "3/3 [==============================] - 0s 13ms/step - loss: 1.8922 - accuracy: 0.4444\n",
            "Epoch 28/100\n",
            "3/3 [==============================] - 0s 13ms/step - loss: 2.1163 - accuracy: 0.2889\n",
            "Epoch 29/100\n",
            "3/3 [==============================] - 0s 12ms/step - loss: 1.9782 - accuracy: 0.4000\n",
            "Epoch 30/100\n",
            "3/3 [==============================] - 0s 13ms/step - loss: 1.7641 - accuracy: 0.3111\n",
            "Epoch 31/100\n",
            "3/3 [==============================] - 0s 14ms/step - loss: 1.6086 - accuracy: 0.5111\n",
            "Epoch 32/100\n",
            "3/3 [==============================] - 0s 13ms/step - loss: 1.8416 - accuracy: 0.3778\n",
            "Epoch 33/100\n",
            "3/3 [==============================] - 0s 13ms/step - loss: 1.3428 - accuracy: 0.5111\n",
            "Epoch 34/100\n",
            "3/3 [==============================] - 0s 13ms/step - loss: 1.4349 - accuracy: 0.4667\n",
            "Epoch 35/100\n",
            "3/3 [==============================] - 0s 12ms/step - loss: 1.6674 - accuracy: 0.4667\n",
            "Epoch 36/100\n",
            "3/3 [==============================] - 0s 13ms/step - loss: 1.4131 - accuracy: 0.3333\n",
            "Epoch 37/100\n",
            "3/3 [==============================] - 0s 13ms/step - loss: 1.4786 - accuracy: 0.3778\n",
            "Epoch 38/100\n",
            "3/3 [==============================] - 0s 12ms/step - loss: 1.3348 - accuracy: 0.5333\n",
            "Epoch 39/100\n",
            "3/3 [==============================] - 0s 13ms/step - loss: 1.4184 - accuracy: 0.3778\n",
            "Epoch 40/100\n",
            "3/3 [==============================] - 0s 13ms/step - loss: 1.3777 - accuracy: 0.4000\n",
            "Epoch 41/100\n",
            "3/3 [==============================] - 0s 14ms/step - loss: 1.2727 - accuracy: 0.5333\n",
            "Epoch 42/100\n",
            "3/3 [==============================] - 0s 12ms/step - loss: 1.1925 - accuracy: 0.5333\n",
            "Epoch 43/100\n",
            "3/3 [==============================] - 0s 12ms/step - loss: 1.0407 - accuracy: 0.5556\n",
            "Epoch 44/100\n",
            "3/3 [==============================] - 0s 13ms/step - loss: 0.9922 - accuracy: 0.7111\n",
            "Epoch 45/100\n",
            "3/3 [==============================] - 0s 18ms/step - loss: 1.3122 - accuracy: 0.3778\n",
            "Epoch 46/100\n",
            "3/3 [==============================] - 0s 13ms/step - loss: 1.7106 - accuracy: 0.2889\n",
            "Epoch 47/100\n",
            "3/3 [==============================] - 0s 14ms/step - loss: 1.1709 - accuracy: 0.6444\n",
            "Epoch 48/100\n",
            "3/3 [==============================] - 0s 13ms/step - loss: 1.0656 - accuracy: 0.4667\n",
            "Epoch 49/100\n",
            "3/3 [==============================] - 0s 13ms/step - loss: 0.9168 - accuracy: 0.5333\n",
            "Epoch 50/100\n",
            "3/3 [==============================] - 0s 13ms/step - loss: 0.7584 - accuracy: 0.7778\n",
            "Epoch 51/100\n",
            "3/3 [==============================] - 0s 14ms/step - loss: 0.7979 - accuracy: 0.6667\n",
            "Epoch 52/100\n",
            "3/3 [==============================] - 0s 13ms/step - loss: 1.0213 - accuracy: 0.5556\n",
            "Epoch 53/100\n",
            "3/3 [==============================] - 0s 12ms/step - loss: 1.4393 - accuracy: 0.3333\n",
            "Epoch 54/100\n",
            "3/3 [==============================] - 0s 13ms/step - loss: 1.5488 - accuracy: 0.3778\n",
            "Epoch 55/100\n",
            "3/3 [==============================] - 0s 13ms/step - loss: 0.8401 - accuracy: 0.6222\n",
            "Epoch 56/100\n",
            "3/3 [==============================] - 0s 12ms/step - loss: 0.6466 - accuracy: 0.7556\n",
            "Epoch 57/100\n",
            "3/3 [==============================] - 0s 12ms/step - loss: 0.5250 - accuracy: 0.8000\n",
            "Epoch 58/100\n",
            "3/3 [==============================] - 0s 13ms/step - loss: 0.6208 - accuracy: 0.6667\n",
            "Epoch 59/100\n",
            "3/3 [==============================] - 0s 13ms/step - loss: 0.4905 - accuracy: 0.8222\n",
            "Epoch 60/100\n",
            "3/3 [==============================] - 0s 12ms/step - loss: 0.4740 - accuracy: 0.8000\n",
            "Epoch 61/100\n",
            "3/3 [==============================] - 0s 13ms/step - loss: 0.4597 - accuracy: 0.8444\n",
            "Epoch 62/100\n",
            "3/3 [==============================] - 0s 13ms/step - loss: 0.7578 - accuracy: 0.7111\n",
            "Epoch 63/100\n",
            "3/3 [==============================] - 0s 12ms/step - loss: 0.9477 - accuracy: 0.6667\n",
            "Epoch 64/100\n",
            "3/3 [==============================] - 0s 13ms/step - loss: 1.1495 - accuracy: 0.6222\n",
            "Epoch 65/100\n",
            "3/3 [==============================] - 0s 15ms/step - loss: 0.9887 - accuracy: 0.5556\n",
            "Epoch 66/100\n",
            "3/3 [==============================] - 0s 13ms/step - loss: 0.9152 - accuracy: 0.7333\n",
            "Epoch 67/100\n",
            "3/3 [==============================] - 0s 13ms/step - loss: 0.5158 - accuracy: 0.8444\n",
            "Epoch 68/100\n",
            "3/3 [==============================] - 0s 12ms/step - loss: 0.5205 - accuracy: 0.7333\n",
            "Epoch 69/100\n",
            "3/3 [==============================] - 0s 13ms/step - loss: 0.5674 - accuracy: 0.8222\n",
            "Epoch 70/100\n",
            "3/3 [==============================] - 0s 12ms/step - loss: 0.4064 - accuracy: 0.7556\n",
            "Epoch 71/100\n",
            "3/3 [==============================] - 0s 13ms/step - loss: 0.5125 - accuracy: 0.8000\n",
            "Epoch 72/100\n",
            "3/3 [==============================] - 0s 13ms/step - loss: 0.4588 - accuracy: 0.8222\n",
            "Epoch 73/100\n",
            "3/3 [==============================] - 0s 14ms/step - loss: 0.4651 - accuracy: 0.7556\n",
            "Epoch 74/100\n",
            "3/3 [==============================] - 0s 13ms/step - loss: 0.7930 - accuracy: 0.6444\n",
            "Epoch 75/100\n",
            "3/3 [==============================] - 0s 13ms/step - loss: 0.2937 - accuracy: 0.8667\n",
            "Epoch 76/100\n",
            "3/3 [==============================] - 0s 13ms/step - loss: 0.3252 - accuracy: 0.8889\n",
            "Epoch 77/100\n",
            "3/3 [==============================] - 0s 13ms/step - loss: 0.7113 - accuracy: 0.6889\n",
            "Epoch 78/100\n",
            "3/3 [==============================] - 0s 13ms/step - loss: 0.6491 - accuracy: 0.6667\n",
            "Epoch 79/100\n",
            "3/3 [==============================] - 0s 12ms/step - loss: 0.2549 - accuracy: 0.9111\n",
            "Epoch 80/100\n",
            "3/3 [==============================] - 0s 13ms/step - loss: 0.7620 - accuracy: 0.6889\n",
            "Epoch 81/100\n",
            "3/3 [==============================] - 0s 13ms/step - loss: 2.0617 - accuracy: 0.5778\n",
            "Epoch 82/100\n",
            "3/3 [==============================] - 0s 13ms/step - loss: 0.3984 - accuracy: 0.7778\n",
            "Epoch 83/100\n",
            "3/3 [==============================] - 0s 13ms/step - loss: 0.2016 - accuracy: 0.9333\n",
            "Epoch 84/100\n",
            "3/3 [==============================] - 0s 13ms/step - loss: 0.2199 - accuracy: 0.8889\n",
            "Epoch 85/100\n",
            "3/3 [==============================] - 0s 13ms/step - loss: 0.2695 - accuracy: 0.8889\n",
            "Epoch 86/100\n",
            "3/3 [==============================] - 0s 12ms/step - loss: 0.1506 - accuracy: 0.9778\n",
            "Epoch 87/100\n",
            "3/3 [==============================] - 0s 13ms/step - loss: 0.2006 - accuracy: 0.9111\n",
            "Epoch 88/100\n",
            "3/3 [==============================] - 0s 13ms/step - loss: 0.1048 - accuracy: 1.0000\n",
            "Epoch 89/100\n",
            "3/3 [==============================] - 0s 12ms/step - loss: 0.0878 - accuracy: 1.0000\n",
            "Epoch 90/100\n",
            "3/3 [==============================] - 0s 13ms/step - loss: 0.0726 - accuracy: 1.0000\n",
            "Epoch 91/100\n",
            "3/3 [==============================] - 0s 13ms/step - loss: 0.0581 - accuracy: 1.0000\n",
            "Epoch 92/100\n",
            "3/3 [==============================] - 0s 13ms/step - loss: 0.0477 - accuracy: 1.0000\n",
            "Epoch 93/100\n",
            "3/3 [==============================] - 0s 13ms/step - loss: 0.0402 - accuracy: 1.0000\n",
            "Epoch 94/100\n",
            "3/3 [==============================] - 0s 13ms/step - loss: 0.0357 - accuracy: 1.0000\n",
            "Epoch 95/100\n",
            "3/3 [==============================] - 0s 13ms/step - loss: 0.0305 - accuracy: 1.0000\n",
            "Epoch 96/100\n",
            "3/3 [==============================] - 0s 13ms/step - loss: 0.0267 - accuracy: 1.0000\n",
            "Epoch 97/100\n",
            "3/3 [==============================] - 0s 13ms/step - loss: 0.0232 - accuracy: 1.0000\n",
            "Epoch 98/100\n",
            "3/3 [==============================] - 0s 13ms/step - loss: 0.0211 - accuracy: 1.0000\n",
            "Epoch 99/100\n",
            "3/3 [==============================] - 0s 12ms/step - loss: 0.0187 - accuracy: 1.0000\n",
            "Epoch 100/100\n",
            "3/3 [==============================] - 0s 12ms/step - loss: 0.0166 - accuracy: 1.0000\n"
          ]
        },
        {
          "output_type": "execute_result",
          "data": {
            "text/plain": [
              "<keras.src.callbacks.History at 0x7b16d64a0b80>"
            ]
          },
          "metadata": {},
          "execution_count": 268
        }
      ]
    },
    {
      "cell_type": "code",
      "source": [
        "# # Step 5: Implement the chat function\n",
        "def preprocess_input_text(input_text):\n",
        "    sequence = tokenizer.texts_to_sequences([input_text])\n",
        "    padded_sequence = tf.keras.preprocessing.sequence.pad_sequences(sequence, maxlen=max_length, padding='post')\n",
        "    return padded_sequence\n",
        "\n",
        "def generate_response(input_sequence):\n",
        "    response_sequence = np.zeros((1, max_length))\n",
        "    response_sequence[0, 0] = 1  # start token\n",
        "    for i in range(1, max_length):\n",
        "        prediction = model.predict([input_sequence, response_sequence]).argmax(axis=2)\n",
        "        response_sequence[0, i] = prediction[0, i-1]\n",
        "        if prediction[0, i-1] == 2:  # end token\n",
        "            break\n",
        "    return response_sequence\n",
        "\n",
        "def sequence_to_text(sequence):\n",
        "    return ' '.join(tokenizer.index_word.get(i, '') for i in sequence if i > 2)"
      ],
      "metadata": {
        "id": "CDDWfgoludpB"
      },
      "execution_count": 269,
      "outputs": []
    },
    {
      "cell_type": "code",
      "source": [
        "import requests\n",
        "def get_weather(city):\n",
        "    api_key = \"bc064a8a4f0e13125929ea154b6fcb10\"\n",
        "    url = f\"http://api.openweathermap.org/data/2.5/weather?q={city}&appid={api_key}&units=imperial\"\n",
        "    response = requests.get(url)\n",
        "    x = response.json()\n",
        "    if x[\"cod\"] != \"404\":\n",
        "        # y = x[\"main\"]\n",
        "        current_temperature = x[\"main\"][\"temp\"]\n",
        "        current_pressure = x[\"main\"][\"pressure\"]\n",
        "        current_humidity = x[\"main\"][\"humidity\"]\n",
        "        # z = x[\"weather\"]\n",
        "        weather_description = x[\"weather\"][0][\"description\"]\n",
        "        return f\"The weather in {city} is:  \\n Temperature: {str(current_temperature)}\\n Atmospheric pressure: {str(current_pressure)}\\n Humidity: {str(current_humidity)}\\n Description: {str(weather_description)}\"\n",
        "    else:\n",
        "        return \"Sorry, I could not find any weather data on the city.\""
      ],
      "metadata": {
        "id": "v-LO9pZ_9I95"
      },
      "execution_count": 270,
      "outputs": []
    },
    {
      "cell_type": "code",
      "source": [
        "def chat_with_bot(input_text):\n",
        "    if 'weather' in input_text.lower():\n",
        "        city_name = input_text.split('weather in ')[1]\n",
        "        return get_weather(city_name)\n",
        "    else:\n",
        "        input_sequence = preprocess_input_text(input_text)\n",
        "        response_sequence = generate_response(input_sequence)\n",
        "        response_text = sequence_to_text(response_sequence[0])\n",
        "        return response_text\n",
        "\n",
        "input_text = \"Do you like Python?\"\n",
        "print(f\"You: {input_text}\")\n",
        "print(f\"Bot: {chat_with_bot(input_text)}\")\n",
        "input_text = \"What is the weather in London\"\n",
        "print(f\"You: {input_text}\")\n",
        "print(f\"Bot: {chat_with_bot(input_text)}\")"
      ],
      "metadata": {
        "id": "r28OFjUi9t55",
        "outputId": "def516a9-5ff1-46a6-923e-bed4fefe1ad5",
        "colab": {
          "base_uri": "https://localhost:8080/"
        }
      },
      "execution_count": 271,
      "outputs": [
        {
          "output_type": "stream",
          "name": "stdout",
          "text": [
            "You: Do you like Python?\n",
            "1/1 [==============================] - 1s 649ms/step\n",
            "1/1 [==============================] - 0s 21ms/step\n",
            "1/1 [==============================] - 0s 21ms/step\n",
            "1/1 [==============================] - 0s 20ms/step\n",
            "1/1 [==============================] - 0s 20ms/step\n",
            "1/1 [==============================] - 0s 22ms/step\n",
            "1/1 [==============================] - 0s 20ms/step\n",
            "1/1 [==============================] - 0s 22ms/step\n",
            "Bot: yes python one of my favorite programming\n",
            "You: What is the weather in London\n",
            "Bot: The weather in London is:  \n",
            " Temperature: 47.5\n",
            " Atmospheric pressure: 1009\n",
            " Humidity: 82\n",
            " Description: scattered clouds\n"
          ]
        }
      ]
    },
    {
      "cell_type": "code",
      "source": [
        "# Interactive chat with the bot\n",
        "print(\"Start chatting with the bot! Type 'Goodbye' to exit.\")\n",
        "while True:\n",
        "    user_input = input(\"You: \")\n",
        "    if ((user_input.lower() == 'goodbye') or (user_input.lower() == 'i am done')):\n",
        "        print('Goodbye!')\n",
        "        break\n",
        "    response = chat_with_bot(user_input)\n",
        "    print(f\"Bot: {response}\")"
      ],
      "metadata": {
        "id": "NIXyJAkavRPW",
        "colab": {
          "base_uri": "https://localhost:8080/"
        },
        "outputId": "929a08e8-02e7-41c0-c2f8-55d3bc0057c4"
      },
      "execution_count": 275,
      "outputs": [
        {
          "output_type": "stream",
          "name": "stdout",
          "text": [
            "Start chatting with the bot! Type 'Goodbye' to exit.\n",
            "You: Hello\n",
            "1/1 [==============================] - 0s 22ms/step\n",
            "1/1 [==============================] - 0s 22ms/step\n",
            "1/1 [==============================] - 0s 21ms/step\n",
            "1/1 [==============================] - 0s 21ms/step\n",
            "1/1 [==============================] - 0s 22ms/step\n",
            "1/1 [==============================] - 0s 21ms/step\n",
            "Bot: hi how can i help\n",
            "You: What is your name\n",
            "1/1 [==============================] - 0s 23ms/step\n",
            "1/1 [==============================] - 0s 21ms/step\n",
            "1/1 [==============================] - 0s 21ms/step\n",
            "1/1 [==============================] - 0s 20ms/step\n",
            "1/1 [==============================] - 0s 21ms/step\n",
            "1/1 [==============================] - 0s 21ms/step\n",
            "1/1 [==============================] - 0s 20ms/step\n",
            "1/1 [==============================] - 0s 20ms/step\n",
            "Bot: i do not have a name\n",
            "You: What is TensorFlow\n",
            "1/1 [==============================] - 0s 22ms/step\n",
            "1/1 [==============================] - 0s 22ms/step\n",
            "1/1 [==============================] - 0s 20ms/step\n",
            "1/1 [==============================] - 0s 22ms/step\n",
            "1/1 [==============================] - 0s 21ms/step\n",
            "1/1 [==============================] - 0s 22ms/step\n",
            "1/1 [==============================] - 0s 21ms/step\n",
            "1/1 [==============================] - 0s 20ms/step\n",
            "Bot: tensorflow a machine learning models\n",
            "You: Do you like Python\n",
            "1/1 [==============================] - 0s 21ms/step\n",
            "1/1 [==============================] - 0s 21ms/step\n",
            "1/1 [==============================] - 0s 21ms/step\n",
            "1/1 [==============================] - 0s 23ms/step\n",
            "1/1 [==============================] - 0s 20ms/step\n",
            "1/1 [==============================] - 0s 20ms/step\n",
            "1/1 [==============================] - 0s 21ms/step\n",
            "1/1 [==============================] - 0s 21ms/step\n",
            "Bot: yes python one of my favorite programming\n",
            "You: What is the weather in Charlottesville\n",
            "Bot: The weather in Charlottesville is:  \n",
            " Temperature: 70.32\n",
            " Atmospheric pressure: 1009\n",
            " Humidity: 35\n",
            " Description: clear sky\n",
            "You: What is the weather in nonsense\n",
            "Bot: Sorry, I could not find any weather data on the city.\n",
            "You: I am done\n",
            "Goodbye!\n"
          ]
        }
      ]
    }
  ]
}