{
  "nbformat": 4,
  "nbformat_minor": 0,
  "metadata": {
    "colab": {
      "provenance": [],
      "authorship_tag": "ABX9TyMhDCEhNFWcXPkaBXjh9qmr",
      "include_colab_link": true
    },
    "kernelspec": {
      "name": "python3",
      "display_name": "Python 3"
    },
    "language_info": {
      "name": "python"
    }
  },
  "cells": [
    {
      "cell_type": "markdown",
      "metadata": {
        "id": "view-in-github",
        "colab_type": "text"
      },
      "source": [
        "<a href=\"https://colab.research.google.com/github/RainaVardhan/Data-Science-Systems-HW-Labs/blob/main/APICalcs.ipynb\" target=\"_parent\"><img src=\"https://colab.research.google.com/assets/colab-badge.svg\" alt=\"Open In Colab\"/></a>"
      ]
    },
    {
      "cell_type": "code",
      "execution_count": 22,
      "metadata": {
        "colab": {
          "base_uri": "https://localhost:8080/"
        },
        "id": "17DI9UsyyGmH",
        "outputId": "d4ca0f8c-fefa-4fee-eb78-4ef138fc15a8"
      },
      "outputs": [
        {
          "name": "stdout",
          "output_type": "stream",
          "text": [
            "Enter country name (if you want to quiz type 'exit'): usa\n",
            "Country:  usa\n",
            "Capital:  ['Washington, D.C.']\n",
            "Population:  329484123\n",
            "Enter country name (if you want to quiz type 'exit'): chad\n",
            "Country:  chad\n",
            "Capital:  [\"N'Djamena\"]\n",
            "Population:  16425859\n",
            "Enter country name (if you want to quiz type 'exit'): turkey\n",
            "Country:  turkey\n",
            "Capital:  ['Ankara']\n",
            "Population:  84339067\n",
            "Enter country name (if you want to quiz type 'exit'): bolivia\n",
            "Country:  bolivia\n",
            "Capital:  ['Sucre']\n",
            "Population:  11673029\n",
            "Enter country name (if you want to quiz type 'exit'): china\n",
            "Country:  china\n",
            "Capital:  ['Taipei']\n",
            "Population:  23503349\n",
            "Enter country name (if you want to quiz type 'exit'): russia\n",
            "Country:  russia\n",
            "Capital:  ['Moscow']\n",
            "Population:  144104080\n",
            "Enter country name (if you want to quiz type 'exit'): xxx\n",
            "API requests failed with error:  404 Client Error: Not Found for url: https://restcountries.com/v3.1/name/xxx\n",
            "Enter country name (if you want to quiz type 'exit'): exit\n"
          ]
        }
      ],
      "source": [
        "import pandas as pd\n",
        "import numpy as np\n",
        "import requests\n",
        "def get_info(country):\n",
        "  url = \"https://restcountries.com/v3.1/name/\" + country\n",
        "  try:\n",
        "    response = requests.get(url)\n",
        "    response.raise_for_status()\n",
        "    data = response.json()\n",
        "    if not data:\n",
        "      print(\"No information found for the country: \", country)\n",
        "      return None\n",
        "    info = data[0]\n",
        "    capital = info.get(\"capital\",\"N/A\")\n",
        "    population = info.get(\"population\",\"N/A\")\n",
        "    print(\"Country: \",country)\n",
        "    print(\"Capital: \",capital)\n",
        "    print(\"Population: \",population)\n",
        "    return {\"Country\": country, \"Capital\": capital, \"Population\": population}\n",
        "  except requests.exceptions.HTTPError as err:\n",
        "    print(\"API requests failed with error: \", err)\n",
        "    return None\n",
        "  except Exception as e:\n",
        "    print(\"Unexpected error occurred: \", e)\n",
        "    return None\n",
        "\n",
        "def main():\n",
        "  data = []\n",
        "  while True:\n",
        "    country = input(\"Enter country name (if you want to quiz type 'exit'): \")\n",
        "    if country.lower() == \"exit\":\n",
        "      break\n",
        "    info = get_info(country)\n",
        "    if info:\n",
        "      data.append(info)\n",
        "  if data:\n",
        "    df = pd.DataFrame(data)\n",
        "    df.to_json(\"data.json\", orient = \"records\", lines = True)\n",
        "\n",
        "if __name__ == \"__main__\":\n",
        "  main()"
      ]
    }
  ]
}