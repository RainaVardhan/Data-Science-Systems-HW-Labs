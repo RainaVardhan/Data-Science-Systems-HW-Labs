{
  "nbformat": 4,
  "nbformat_minor": 0,
  "metadata": {
    "colab": {
      "provenance": [],
      "authorship_tag": "ABX9TyNczM9IPvLM0n7APwb8o/nx",
      "include_colab_link": true
    },
    "kernelspec": {
      "name": "python3",
      "display_name": "Python 3"
    },
    "language_info": {
      "name": "python"
    }
  },
  "cells": [
    {
      "cell_type": "markdown",
      "metadata": {
        "id": "view-in-github",
        "colab_type": "text"
      },
      "source": [
        "<a href=\"https://colab.research.google.com/github/RainaVardhan/Data-Science-Systems-HW-Labs/blob/main/ETL_Data_Processor.ipynb\" target=\"_parent\"><img src=\"https://colab.research.google.com/assets/colab-badge.svg\" alt=\"Open In Colab\"/></a>"
      ]
    },
    {
      "cell_type": "code",
      "source": [
        "! python -m pip install pymongo"
      ],
      "metadata": {
        "colab": {
          "base_uri": "https://localhost:8080/"
        },
        "id": "ksDYUQJ4mbQc",
        "outputId": "185b6ae1-ca28-4050-d3bd-ea7edf3f9117"
      },
      "execution_count": 169,
      "outputs": [
        {
          "output_type": "stream",
          "name": "stdout",
          "text": [
            "Requirement already satisfied: pymongo in /usr/local/lib/python3.10/dist-packages (4.6.3)\n",
            "Requirement already satisfied: dnspython<3.0.0,>=1.16.0 in /usr/local/lib/python3.10/dist-packages (from pymongo) (2.6.1)\n"
          ]
        }
      ]
    },
    {
      "cell_type": "code",
      "execution_count": 170,
      "metadata": {
        "id": "SAMnyfs8__lr"
      },
      "outputs": [],
      "source": [
        "import numpy as np\n",
        "import pandas as pd\n",
        "import sqlite3"
      ]
    },
    {
      "cell_type": "code",
      "source": [
        "# Connecting to the SQLite Database\n",
        "conn = sqlite3.connect('movies_and_shows.db')\n",
        "\n",
        "# Creating the Movies table\n",
        "conn.execute('''CREATE TABLE IF NOT EXISTS Movies (\n",
        "                id INTEGER PRIMARY KEY UNIQUE,\n",
        "                title TEXT,\n",
        "                description TEXT,\n",
        "                genre TEXT,\n",
        "                release_year INTEGER,\n",
        "                cast TEXT,\n",
        "                duration TEXT\n",
        "            )''')\n",
        "\n",
        "#Creating the Shows table\n",
        "conn.execute('''CREATE TABLE IF NOT EXISTS Shows (\n",
        "                id INTEGER PRIMARY KEY UNIQUE,\n",
        "                title TEXT,\n",
        "                description TEXT,\n",
        "                genre TEXT,\n",
        "                release_year INTEGER,\n",
        "                cast TEXT,\n",
        "                seasons TEXT\n",
        "            )''')\n",
        "\n",
        "#Creating the MovieRatings table\n",
        "conn.execute('''CREATE TABLE IF NOT EXISTS MovieRatings (\n",
        "                id INTEGER PRIMARY KEY,\n",
        "                movie_id INTEGER,\n",
        "                title TEXT,\n",
        "                imdb_id TEXT,\n",
        "                imdb_rating REAL,\n",
        "                imdb_votes INTEGER,\n",
        "                FOREIGN KEY (movie_id) REFERENCES Movies(id)\n",
        "              )''')\n",
        "\n",
        "#Creating the ShowRatings table\n",
        "conn.execute('''CREATE TABLE IF NOT EXISTS ShowRatings (\n",
        "                id INTEGER PRIMARY KEY,\n",
        "                show_id INTEGER,\n",
        "                title TEXT,\n",
        "                imdb_id TEXT,\n",
        "                imdb_rating REAL,\n",
        "                imdb_votes INTEGER,\n",
        "                FOREIGN KEY (show_id) REFERENCES Shows(id)\n",
        "              )''')\n",
        "\n",
        "#Creating the MovieGenres table\n",
        "conn.execute('''CREATE TABLE IF NOT EXISTS MovieGenres (\n",
        "                id INTEGER PRIMARY KEY,\n",
        "                genre TEXT,\n",
        "                movie_id INTEGER,\n",
        "                movie_title TEXT,\n",
        "                FOREIGN KEY (movie_id) REFERENCES Movies(id)\n",
        "            )''')\n",
        "\n",
        "#Committing changes to the Database\n",
        "conn.commit()\n",
        "\n",
        "#Closing the connection to the Database\n",
        "conn.close()"
      ],
      "metadata": {
        "id": "YdMmJe3iW-Ka"
      },
      "execution_count": 171,
      "outputs": []
    },
    {
      "cell_type": "code",
      "source": [
        "#Loading CSV file into pandas DataFrames\n",
        "netflix = pd.read_csv('/content/data_files/netflix_titles.csv')\n",
        "\n",
        "#Filters the DataFrame so that it only looks at the TV shows\n",
        "shows = netflix[netflix['type'] == 'TV Show']\n",
        "\n",
        "#Limits the data to only the first 10 rows\n",
        "shows = shows.head(10)\n",
        "\n",
        "#Connecting to the SQLite database\n",
        "conn = sqlite3.connect('movies_and_shows.db')\n",
        "\n",
        "#Creating a cursor to execute SQL commands\n",
        "cursor = conn.cursor()\n",
        "\n",
        "#Looping through the each row in the DataFrame to insert data into the Shows table in the Database\n",
        "for index,row in shows.iterrows():\n",
        "    cursor.execute('''INSERT INTO Shows (title, description, genre, release_year, cast, seasons)\n",
        "                      VALUES (?, ?, ?, ?, ?, ?)''', (\n",
        "                        row['title'],\n",
        "                        row['description'],\n",
        "                        row['listed_in'],\n",
        "                        row['release_year'],\n",
        "                        row['cast'],\n",
        "                        row['duration']\n",
        "                  ))\n",
        "\n",
        "#Committing changes to the Database\n",
        "conn.commit()\n",
        "\n",
        "#Closing the connection to the Database\n",
        "conn.close()"
      ],
      "metadata": {
        "id": "BVcsd8FiIZVQ"
      },
      "execution_count": 172,
      "outputs": []
    },
    {
      "cell_type": "code",
      "source": [
        "#Connecting to the SQLite Database\n",
        "conn = sqlite3.connect('movies_and_shows.db')\n",
        "\n",
        "#Querrying the data from the Shows table to convert it to a DataFrame (asked chat how to do this)\n",
        "query = f\"SELECT * FROM Shows\"\n",
        "data = pd.read_sql_query(query, conn)\n",
        "\n",
        "#Closing the connection to the Database\n",
        "conn.close()\n",
        "\n",
        "#Exporting the DataFrame to a CSV file\n",
        "data.to_csv('shows_table.csv', index=False)"
      ],
      "metadata": {
        "id": "--wcUaH6iP9N"
      },
      "execution_count": 173,
      "outputs": []
    },
    {
      "cell_type": "code",
      "source": [
        "import os\n",
        "import datetime\n",
        "import json\n",
        "import pymongo\n",
        "import pprint\n",
        "\n",
        "#Connecting the MongoDB with these parameters\n",
        "host_name = \"localhost\"\n",
        "port = \"27017\"\n",
        "\n",
        "atlas_cluster_name = \"cluster0.xuibg2h\"\n",
        "atlas_default_dbname = \"sakila\"\n",
        "atlas_user_name = \"ds2002sp23\"\n",
        "atlas_password = \"uva1819\"\n",
        "\n",
        "#Creating a MongoDB client using the Atlas connection string\n",
        "conn_str = {\n",
        "    \"atlas\" : f\"mongodb+srv://{atlas_user_name}:{atlas_password}@{atlas_cluster_name}.mongodb.net/{atlas_default_dbname}\"\n",
        "}\n",
        "\n",
        "client = pymongo.MongoClient(conn_str[\"atlas\"])\n",
        "\n",
        "#Accessing the sample_mflix database and its movies collection\n",
        "db_name = \"sample_mflix\"\n",
        "db = client[db_name]\n",
        "db.list_collection_names()\n",
        "collection = db['movies']\n",
        "\n",
        "#Finding all the entries in the movies collection and turning it into a list\n",
        "data = collection.find()\n",
        "data_list = list(data)\n",
        "\n",
        "#Limits the list to only take the first 10 entries\n",
        "data_list = data_list[:10]"
      ],
      "metadata": {
        "id": "BbYARwNbewMm"
      },
      "execution_count": 174,
      "outputs": []
    },
    {
      "cell_type": "code",
      "source": [
        "from bson import ObjectId\n",
        "\n",
        "#Connecting to the SQLite Database\n",
        "conn = sqlite3.connect('movies_and_shows.db')\n",
        "\n",
        "#Creating a cursor to execute SQL commands\n",
        "cursor = conn.cursor()\n",
        "\n",
        "#Looping through the list of movie data from the MongoDB to insert movie data into the Movie table\n",
        "for movie in data_list:\n",
        "\n",
        "    #Joining the list of genres and list of cast memebers into single strings separated by commas (asked chat how to do this)\n",
        "    genres_str = ', '.join(movie.get('genres', []))\n",
        "    cast = movie.get('cast',[])\n",
        "\n",
        "    #Checking that cast has valid values\n",
        "    if isinstance(cast, list):\n",
        "      cast_str =', '.join(cast)\n",
        "    else:\n",
        "      cast = None\n",
        "\n",
        "    cursor.execute('''INSERT INTO Movies (title, description, genre, release_year, cast, duration)\n",
        "                      VALUES (?, ?, ?, ?, ?, ?)''', (\n",
        "                          movie.get('title'),\n",
        "                          movie.get('plot'),\n",
        "                          genres_str,\n",
        "                          movie.get('year'),\n",
        "                          cast_str,\n",
        "                          movie.get('runtime')\n",
        "                  ))\n",
        "\n",
        "#Committing changes to the Database\n",
        "conn.commit()\n",
        "\n",
        "#Closing the connection to the Database\n",
        "conn.close()"
      ],
      "metadata": {
        "id": "EEZ9vgRwpO2U"
      },
      "execution_count": 175,
      "outputs": []
    },
    {
      "cell_type": "code",
      "source": [
        "#Connecting to the SQLite Database\n",
        "conn = sqlite3.connect('movies_and_shows.db')\n",
        "\n",
        "#Querrying the data from the Movies table to convert it to a DataFrame (asked chat how to do this)\n",
        "query = f\"SELECT * FROM Movies\"\n",
        "data = pd.read_sql_query(query, conn)\n",
        "\n",
        "#Closing the connection to the Database\n",
        "conn.close()\n",
        "\n",
        "#Exporting the DataFrame to a CSV file\n",
        "data.to_csv('movies_table.csv', index=False)"
      ],
      "metadata": {
        "id": "zrsRaN-z6XVQ"
      },
      "execution_count": 176,
      "outputs": []
    },
    {
      "cell_type": "code",
      "source": [
        "import requests\n",
        "\n",
        "#API key details\n",
        "api_key = '56100165'\n",
        "\n",
        "#Base URL and parameters for the OMDb API request\n",
        "def get_api_data(title, api_key):\n",
        "  base_url = 'http://www.omdbapi.com/'\n",
        "  params = {\n",
        "      't': title,\n",
        "      'apikey': api_key\n",
        "  }\n",
        "  try:\n",
        "    response = requests.get(base_url, params=params)\n",
        "    response.raise_for_status()\n",
        "  except requests.exceptions.HTTPError as errh:\n",
        "    return \"An Http Error occurred: \" + repr(errh)\n",
        "  except requests.exceptions.ConnectionError as errc:\n",
        "    return \"An Error Connecting to the API occurred: \" + repr(errc)\n",
        "  except requests.exceptions.Timeout as errt:\n",
        "    return \"A Timeout Error occurred: \" + repr(errt)\n",
        "  except requests.exceptions.RequestException as err:\n",
        "    return \"An Unknown Error occurred: \" + repr(err)\n",
        "  return response.json()"
      ],
      "metadata": {
        "id": "HabMeZqxvjE2"
      },
      "execution_count": 177,
      "outputs": []
    },
    {
      "cell_type": "code",
      "source": [
        "#Connecting to the SQLite Database\n",
        "conn = sqlite3.connect('movies_and_shows.db')\n",
        "\n",
        "#Creating a cursor to execute SQL commands\n",
        "cursor = conn.cursor()\n",
        "\n",
        "#Getting the titles from Movies and Shows tables\n",
        "cursor.execute(\"SELECT title FROM Movies\")\n",
        "fetch = cursor.fetchall()\n",
        "movies_titles = []\n",
        "for row in fetch:\n",
        "  movies_titles.append(row[0])\n",
        "\n",
        "cursor.execute(\"SELECT title FROM Shows\")\n",
        "fetch = cursor.fetchall()\n",
        "shows_titles = []\n",
        "for row in fetch:\n",
        "  shows_titles.append(row[0])\n",
        "\n",
        "#Creating lists to store the movie and show data\n",
        "movie_data = []\n",
        "show_data = []\n",
        "\n",
        "#Getting movie data from OMDb API and adding it to the movie_data list\n",
        "for title in movies_titles:\n",
        "    data = get_api_data(title, api_key)\n",
        "    print(data)\n",
        "    if data:\n",
        "        movie_data.append(data)\n",
        "\n",
        "#Getting show data from OMDb API and adding it to the show_data list\n",
        "for title in shows_titles:\n",
        "    data = get_api_data(title, api_key)\n",
        "    if data:\n",
        "        show_data.append(data)\n",
        "\n",
        "#Converting movie_data and show_data lists into DataFrames\n",
        "movie_ratings = pd.DataFrame(movie_data)\n",
        "show_ratings = pd.DataFrame(show_data)\n",
        "\n",
        "#Committing changes to the Database\n",
        "conn.commit()\n",
        "\n",
        "#Closing the connection to the Database\n",
        "conn.close()"
      ],
      "metadata": {
        "colab": {
          "base_uri": "https://localhost:8080/"
        },
        "id": "I7fPUKUdYVZh",
        "outputId": "8dee603a-c2ce-4afd-a813-a3e6be0c19d4"
      },
      "execution_count": 178,
      "outputs": [
        {
          "output_type": "stream",
          "name": "stdout",
          "text": [
            "{'Title': 'Where Are My Children?', 'Year': '1916', 'Rated': 'Approved', 'Released': '01 May 1916', 'Runtime': '62 min', 'Genre': 'Drama', 'Director': 'Phillips Smalley, Lois Weber', 'Writer': 'Lucy Payton, Franklyn Hall, Lois Weber', 'Actors': 'Tyrone Power Sr., Mrs. Tyrone Power, Marie Walcamp', 'Plot': \"A District Attorney's outspoken stand on abortion lands him in trouble with the local community.\", 'Language': 'None, English', 'Country': 'United States', 'Awards': '1 win', 'Poster': 'https://m.media-amazon.com/images/M/MV5BM2UxNTNiYjYtYjZkYy00MzI0LWExZWItZDZhOWEzNWFkZGMzXkEyXkFqcGdeQXVyMTk2MzI2Ng@@._V1_SX300.jpg', 'Ratings': [{'Source': 'Internet Movie Database', 'Value': '6.2/10'}], 'Metascore': 'N/A', 'imdbRating': '6.2', 'imdbVotes': '855', 'imdbID': 'tt0007558', 'Type': 'movie', 'DVD': '25 Feb 2020', 'BoxOffice': 'N/A', 'Production': 'N/A', 'Website': 'N/A', 'Response': 'True'}\n",
            "{'Title': 'Cops', 'Year': '1989–2023', 'Rated': 'TV-14', 'Released': '11 Mar 1989', 'Runtime': '1 min', 'Genre': 'Action, Crime, Reality-TV', 'Director': 'N/A', 'Writer': 'John Langley, Malcolm Barbour', 'Actors': 'Ruben Barela, Andrew Fincher, Alex Cox', 'Plot': 'Camera crews follow police officers while they work.', 'Language': 'English, Spanish, German, Russian', 'Country': 'United States', 'Awards': 'Nominated for 4 Primetime Emmys. 2 wins & 5 nominations total', 'Poster': 'https://m.media-amazon.com/images/M/MV5BYzFmODRmYTMtNjZkMS00ZjdkLThlZjgtMjM1NzEzZTgxM2JmXkEyXkFqcGdeQXVyNDIzMzcwNjc@._V1_SX300.jpg', 'Ratings': [{'Source': 'Internet Movie Database', 'Value': '6.9/10'}], 'Metascore': 'N/A', 'imdbRating': '6.9', 'imdbVotes': '7,075', 'imdbID': 'tt0096563', 'Type': 'series', 'totalSeasons': '33', 'Response': 'True'}\n",
            "{'Title': 'Wild Oranges', 'Year': '1924', 'Rated': 'Passed', 'Released': '20 Jan 1924', 'Runtime': '88 min', 'Genre': 'Drama, Romance', 'Director': 'King Vidor', 'Writer': 'Joseph Hergesheimer, King Vidor, Tom Miranda', 'Actors': 'Frank Mayo, Virginia Valli, Ford Sterling', 'Plot': \"Millie Stope lives with her grandfather on a remote island. Her grandfather fled there for political reasons. But they're not alone. An escaped prisoner, Nicholas, is terrorizing them, and further more, he's interested in Mllie. J...\", 'Language': 'None, English', 'Country': 'United States', 'Awards': '3 wins', 'Poster': 'https://m.media-amazon.com/images/M/MV5BYjE0M2JjZmEtMDc5YS00M2UyLTg5N2YtZWYyYzZmZGE0NTFkXkEyXkFqcGdeQXVyNDY1NzU5NjY@._V1_SX300.jpg', 'Ratings': [{'Source': 'Internet Movie Database', 'Value': '6.7/10'}], 'Metascore': 'N/A', 'imdbRating': '6.7', 'imdbVotes': '563', 'imdbID': 'tt0015498', 'Type': 'movie', 'DVD': 'N/A', 'BoxOffice': 'N/A', 'Production': 'N/A', 'Website': 'N/A', 'Response': 'True'}\n",
            "{'Title': 'Chiamami Salomè', 'Year': '2006', 'Rated': 'N/A', 'Released': '09 May 2008', 'Runtime': '96 min', 'Genre': 'Drama', 'Director': 'Claudio Sestieri', 'Writer': 'Claudio Sestieri', 'Actors': 'Giovanni Agrò, Riccardo Cicogna, Carolina Felline', 'Plot': 'Herod is a Neapolitan boss who runs The Last Emperor, an infamous local, and Herodias is his vicious partner. Salomè is a young, immature and beautiful girl, desired by many men including her stepfather Herod. John is a protester ...', 'Language': 'Italian', 'Country': 'Italy', 'Awards': 'N/A', 'Poster': 'https://m.media-amazon.com/images/M/MV5BNjg3NTUwMTA5MV5BMl5BanBnXkFtZTgwODU3MTQxNTE@._V1_SX300.jpg', 'Ratings': [{'Source': 'Internet Movie Database', 'Value': '5.0/10'}], 'Metascore': 'N/A', 'imdbRating': '5.0', 'imdbVotes': '24', 'imdbID': 'tt0497024', 'Type': 'movie', 'DVD': 'N/A', 'BoxOffice': 'N/A', 'Production': 'N/A', 'Website': 'N/A', 'Response': 'True'}\n",
            "{'Title': 'Black Legion', 'Year': '1937', 'Rated': 'Passed', 'Released': '30 Jan 1937', 'Runtime': '83 min', 'Genre': 'Crime, Drama, Film-Noir', 'Director': 'Archie Mayo, Michael Curtiz', 'Writer': 'Abem Finkel, William Wister Haines, Robert Lord', 'Actors': 'Humphrey Bogart, Ann Sheridan, Dick Foran', 'Plot': \"A hard-working machinist loses a promotion to a Polish-born worker, he's seduced into joining the secretive Black Legion, which intimidates foreigners through violence.\", 'Language': 'English', 'Country': 'United States', 'Awards': 'Nominated for 1 Oscar. 2 wins & 1 nomination total', 'Poster': 'https://m.media-amazon.com/images/M/MV5BZmU5MGQ2M2MtYmRlMy00MDY1LWFiZWQtYTdjOWMxYzdjMWEzXkEyXkFqcGdeQXVyMjUxODE0MDY@._V1_SX300.jpg', 'Ratings': [{'Source': 'Internet Movie Database', 'Value': '6.9/10'}, {'Source': 'Rotten Tomatoes', 'Value': '100%'}], 'Metascore': 'N/A', 'imdbRating': '6.9', 'imdbVotes': '3,891', 'imdbID': 'tt0027367', 'Type': 'movie', 'DVD': '23 May 2016', 'BoxOffice': 'N/A', 'Production': 'N/A', 'Website': 'N/A', 'Response': 'True'}\n",
            "{'Title': 'Strike Up the Band', 'Year': '1940', 'Rated': 'Passed', 'Released': '27 Sep 1940', 'Runtime': '120 min', 'Genre': 'Comedy, Musical, Romance', 'Director': 'Busby Berkeley', 'Writer': 'John Monks Jr., Fred F. Finklehoffe, Herbert Fields', 'Actors': 'Mickey Rooney, Judy Garland, Paul Whiteman', 'Plot': 'A high-school boy wants to become a professional musician, and his gal pal wants to become his best girl. They work together staging big-band shows with fellow classmates in the hopes of hitting it big.', 'Language': 'English', 'Country': 'United States', 'Awards': 'Won 1 Oscar. 1 win & 2 nominations total', 'Poster': 'https://m.media-amazon.com/images/M/MV5BMzQ4YmY0YjctODkyOS00OGEzLTgyZjYtYjU4ZTU1MjlkMDhmXkEyXkFqcGdeQXVyNTE4MzAyNDk@._V1_SX300.jpg', 'Ratings': [{'Source': 'Internet Movie Database', 'Value': '6.8/10'}, {'Source': 'Metacritic', 'Value': '59/100'}], 'Metascore': '59', 'imdbRating': '6.8', 'imdbVotes': '1,894', 'imdbID': 'tt0033110', 'Type': 'movie', 'DVD': '01 Apr 2012', 'BoxOffice': 'N/A', 'Production': 'N/A', 'Website': 'N/A', 'Response': 'True'}\n",
            "{'Title': 'The Magnificent Ambersons', 'Year': '1942', 'Rated': 'Not Rated', 'Released': '10 Jul 1942', 'Runtime': '88 min', 'Genre': 'Drama, Romance', 'Director': 'Orson Welles, Fred Fleck, Robert Wise', 'Writer': 'Booth Tarkington, Orson Welles, Joseph Cotten', 'Actors': 'Tim Holt, Joseph Cotten, Dolores Costello', 'Plot': 'The spoiled young heir to the decaying Amberson fortune comes between his widowed mother and the man she has always loved.', 'Language': 'English', 'Country': 'United States', 'Awards': 'Nominated for 4 Oscars. 4 wins & 4 nominations total', 'Poster': 'https://m.media-amazon.com/images/M/MV5BOTQ4Y2I5MzYtNDJkZS00YTFmLWJkODctMmU3YzQ3ZDhkMWE5XkEyXkFqcGdeQXVyNjc1NTYyMjg@._V1_SX300.jpg', 'Ratings': [{'Source': 'Internet Movie Database', 'Value': '7.6/10'}, {'Source': 'Rotten Tomatoes', 'Value': '89%'}, {'Source': 'Metacritic', 'Value': '93/100'}], 'Metascore': '93', 'imdbRating': '7.6', 'imdbVotes': '26,639', 'imdbID': 'tt0035015', 'Type': 'movie', 'DVD': '01 Apr 2012', 'BoxOffice': 'N/A', 'Production': 'N/A', 'Website': 'N/A', 'Response': 'True'}\n",
            "{'Title': \"The Bells of St. Mary's\", 'Year': '1945', 'Rated': 'Unrated', 'Released': '21 Feb 1946', 'Runtime': '126 min', 'Genre': 'Drama', 'Director': 'Leo McCarey', 'Writer': 'Dudley Nichols, Leo McCarey', 'Actors': 'Bing Crosby, Ingrid Bergman, Henry Travers', 'Plot': \"At a big city Catholic school, Father O'Malley and Sister Benedict indulge in friendly rivalry, and succeed in extending the school through the gift of a building.\", 'Language': 'English, Latin, Swedish', 'Country': 'United States', 'Awards': 'Won 1 Oscar. 6 wins & 8 nominations total', 'Poster': 'https://m.media-amazon.com/images/M/MV5BYWYyZjk5OGEtZTFhNS00OTg0LWJjNWEtYjlkOTQ1MjM1N2ZkXkEyXkFqcGdeQXVyMDI2NDg0NQ@@._V1_SX300.jpg', 'Ratings': [{'Source': 'Internet Movie Database', 'Value': '7.2/10'}, {'Source': 'Rotten Tomatoes', 'Value': '85%'}], 'Metascore': 'N/A', 'imdbRating': '7.2', 'imdbVotes': '9,253', 'imdbID': 'tt0037536', 'Type': 'movie', 'DVD': '09 Aug 2020', 'BoxOffice': '$21,333,333', 'Production': 'N/A', 'Website': 'N/A', 'Response': 'True'}\n",
            "{'Title': 'La nao Capitana', 'Year': '1947', 'Rated': 'N/A', 'Released': '09 Dec 1949', 'Runtime': '87 min', 'Genre': 'Drama', 'Director': 'Florián Rey', 'Writer': 'Ricardo Baroja, Manuel Tamayo', 'Actors': 'Paola Barbara, Manuel Luna, José Nieto', 'Plot': 'The Capitana ship departs from Seville to the West Indies. There travel don Antonio, his wife Estrella and their daughters Leonor and Trinidad. On the high seas a stowaway is discovered, a Moorish in love with Estrella, who, in co...', 'Language': 'Spanish', 'Country': 'Spain', 'Awards': '2 wins', 'Poster': 'https://m.media-amazon.com/images/M/MV5BNTgwZTg3ZWQtY2M1NS00NTY4LThlOTktNGQ1ZTIyN2E2OWQ5L2ltYWdlL2ltYWdlXkEyXkFqcGdeQXVyNTkyMzkxODQ@._V1_SX300.jpg', 'Ratings': [{'Source': 'Internet Movie Database', 'Value': '5.9/10'}], 'Metascore': 'N/A', 'imdbRating': '5.9', 'imdbVotes': '18', 'imdbID': 'tt0039653', 'Type': 'movie', 'DVD': 'N/A', 'BoxOffice': 'N/A', 'Production': 'N/A', 'Website': 'N/A', 'Response': 'True'}\n",
            "{'Title': 'Samson and Delilah', 'Year': '1949', 'Rated': 'Approved', 'Released': '21 Sep 1950', 'Runtime': '134 min', 'Genre': 'Drama, Family, History', 'Director': 'Cecil B. DeMille', 'Writer': 'Jesse Lasky Jr., Fredric M. Frank, Harold Lamb', 'Actors': 'Hedy Lamarr, Victor Mature, George Sanders', 'Plot': 'When strongman Samson rejects the love of the beautiful Philistine woman Delilah, she seeks vengeance that brings horrible consequences they both regret.', 'Language': 'English', 'Country': 'United States', 'Awards': 'Won 2 Oscars. 7 wins & 5 nominations total', 'Poster': 'https://m.media-amazon.com/images/M/MV5BNmE1NTg5OWQtYzcwNi00ZDFkLWJmZjgtNDM3ZjZiODAxYmE2XkEyXkFqcGdeQXVyNjc1NTYyMjg@._V1_SX300.jpg', 'Ratings': [{'Source': 'Internet Movie Database', 'Value': '6.8/10'}, {'Source': 'Rotten Tomatoes', 'Value': '56%'}], 'Metascore': 'N/A', 'imdbRating': '6.8', 'imdbVotes': '8,910', 'imdbID': 'tt0041838', 'Type': 'movie', 'DVD': '01 May 2012', 'BoxOffice': 'N/A', 'Production': 'N/A', 'Website': 'N/A', 'Response': 'True'}\n"
          ]
        }
      ]
    },
    {
      "cell_type": "code",
      "source": [
        "#Connecting to the SQLite Database\n",
        "conn = sqlite3.connect('movies_and_shows.db')\n",
        "\n",
        "#Creating a cursor to execute SQL commands\n",
        "cursor = conn.cursor()\n",
        "\n",
        "#Looping thorugh each row in the movie_ratings DataFrame to insert movie rating data into the MovieRatings table\n",
        "for index,row in movie_ratings.iterrows():\n",
        "\n",
        "    #Getting the movie id from the Movies table that corresponds to the title\n",
        "    cursor.execute(\"SELECT id FROM Movies WHERE title = ?\", (row['Title'],))\n",
        "    movie_id = cursor.fetchone()\n",
        "\n",
        "    #Checking if the movie_id exists\n",
        "    if movie_id:\n",
        "        movie_id = movie_id[0]\n",
        "        cursor.execute('''INSERT INTO MovieRatings (movie_id, title, imdb_id, imdb_rating, imdb_votes)\n",
        "                          VALUES (?, ?, ?, ?, ?)''', (\n",
        "                              movie_id,\n",
        "                              row['Title'],\n",
        "                              row['imdbID'],\n",
        "                              row['imdbRating'],\n",
        "                              row['imdbVotes'],\n",
        "                      ))\n",
        "\n",
        "#Committing changes to the Database\n",
        "conn.commit()\n",
        "\n",
        "#Closing the connection to the Database\n",
        "conn.close()"
      ],
      "metadata": {
        "id": "4uNILT7osy1F"
      },
      "execution_count": 179,
      "outputs": []
    },
    {
      "cell_type": "code",
      "source": [
        "#Connecting to the SQLite Database\n",
        "conn = sqlite3.connect('movies_and_shows.db')\n",
        "\n",
        "#Creating a cursor to execute SQL commands\n",
        "cursor = conn.cursor()\n",
        "\n",
        "#Looping thorugh each row in the show_ratings DataFrame to insert show rating data into the ShowRatings table\n",
        "for index,row in show_ratings.iterrows():\n",
        "\n",
        "    #Getting the show id from the Shows table that corresponds to the title\n",
        "    cursor.execute(\"SELECT id FROM Shows WHERE title = ?\", (row['Title'],))\n",
        "    show_id = cursor.fetchone()\n",
        "\n",
        "    # Check if the show_id exists\n",
        "    if show_id:\n",
        "        show_id = show_id[0]\n",
        "        cursor.execute('''INSERT INTO ShowRatings (show_id, title, imdb_id, imdb_rating, imdb_votes)\n",
        "                          VALUES (?, ?, ?, ?, ?)''', (\n",
        "                              show_id,\n",
        "                              row['Title'],\n",
        "                              row['imdbID'],\n",
        "                              row['imdbRating'],\n",
        "                              row['imdbVotes'],\n",
        "                      ))\n",
        "\n",
        "#Committing changes to the Database\n",
        "conn.commit()\n",
        "\n",
        "#Closing the connection to the Database\n",
        "conn.close()"
      ],
      "metadata": {
        "id": "iiQOjChvosV2"
      },
      "execution_count": 180,
      "outputs": []
    },
    {
      "cell_type": "code",
      "source": [
        "#Connecting to the SQLite Database\n",
        "conn = sqlite3.connect('movies_and_shows.db')\n",
        "\n",
        "#Querrying the data from the MovieRatings table to convert it to a DataFrame (asked chat how to do this)\n",
        "query = f\"SELECT * FROM MovieRatings\"\n",
        "data = pd.read_sql_query(query, conn)\n",
        "\n",
        "#Closing the connection to the Database\n",
        "conn.close()\n",
        "\n",
        "#Exporting the DataFrame to a CSV file\n",
        "data.to_csv('movies_ratings_table.csv', index=False)"
      ],
      "metadata": {
        "id": "QJ3GJ-9Fs4yo"
      },
      "execution_count": 181,
      "outputs": []
    },
    {
      "cell_type": "code",
      "source": [
        "#Connecting to the SQLite Database\n",
        "conn = sqlite3.connect('movies_and_shows.db')\n",
        "\n",
        "#Querrying the data from the ShowRatings table to convert it to a DataFrame (asked chat how to do this)\n",
        "query = f\"SELECT * FROM ShowRatings\"\n",
        "data = pd.read_sql_query(query, conn)\n",
        "\n",
        "#Closing the connection to the Database\n",
        "conn.close()\n",
        "\n",
        "#Exporting the DataFrame to a CSV file\n",
        "data.to_csv('show_ratings_table.csv', index=False)"
      ],
      "metadata": {
        "id": "ScBigVAmo39n"
      },
      "execution_count": 182,
      "outputs": []
    },
    {
      "cell_type": "code",
      "source": [
        "# Connecting to the SQLite Database\n",
        "conn = sqlite3.connect('movies_and_shows.db')\n",
        "\n",
        "# Creating a cursor to execute SQL commands\n",
        "cursor = conn.cursor()\n",
        "\n",
        "# Looping through each row in the combined_data DataFrame to store data in the dictionary\n",
        "for index, row in movie_ratings.iterrows():\n",
        "    title = row['Title']\n",
        "\n",
        "    # Splitting the genres into a list\n",
        "    genres = row['Genre']\n",
        "    if isinstance(genres, str):\n",
        "        genres = genres.split(', ')\n",
        "    else:\n",
        "        genres = []\n",
        "\n",
        "    # Finding the movie id from the Movies table that match the title\n",
        "    cursor.execute(\"SELECT id FROM Movies WHERE title = ?\", (title,))\n",
        "    movie_id = cursor.fetchone()\n",
        "\n",
        "    # Checking if movie_id is valid values\n",
        "    if movie_id:\n",
        "        movie_id = movie_id[0]\n",
        "    else:\n",
        "        movie_id = None\n",
        "\n",
        "    # Looping through the genres to update the dictionary to show the movie titles and ids based on the genre\n",
        "    for genre in genres:\n",
        "        if movie_id:\n",
        "            cursor.execute('''INSERT INTO MovieGenres (genre, movie_id, movie_title)\n",
        "                              VALUES (?, ?, ?)''', (\n",
        "                                  genre,\n",
        "                                  movie_id,\n",
        "                                  title,\n",
        "                          ))\n",
        "\n",
        "# Committing changes to the Database\n",
        "conn.commit()\n",
        "\n",
        "# Closing the connection to the Database\n",
        "conn.close()"
      ],
      "metadata": {
        "id": "aCvINR1rRuVA"
      },
      "execution_count": 183,
      "outputs": []
    },
    {
      "cell_type": "code",
      "source": [
        "#Connecting to the SQLite Database\n",
        "conn = sqlite3.connect('movies_and_shows.db')\n",
        "\n",
        "#Querrying the data from the ShowRatings table to convert it to a DataFrame (asked chat how to do this)\n",
        "query = f\"SELECT * FROM MovieGenres\"\n",
        "data = pd.read_sql_query(query, conn)\n",
        "\n",
        "#Closing the connection to the Database\n",
        "conn.close()\n",
        "\n",
        "#Exporting the DataFrame to a CSV file\n",
        "data.to_csv('movie_genres_table.csv', index=False)"
      ],
      "metadata": {
        "id": "QQWaEpSS4dHl"
      },
      "execution_count": 185,
      "outputs": []
    },
    {
      "cell_type": "code",
      "source": [
        "!pip install pyMysql"
      ],
      "metadata": {
        "colab": {
          "base_uri": "https://localhost:8080/"
        },
        "id": "NYxQ90_FpFW6",
        "outputId": "9e7ebda4-6d7f-40df-ba04-3ec7ec4c0bc6"
      },
      "execution_count": 189,
      "outputs": [
        {
          "output_type": "stream",
          "name": "stdout",
          "text": [
            "Requirement already satisfied: pyMysql in /usr/local/lib/python3.10/dist-packages (1.1.0)\n"
          ]
        }
      ]
    },
    {
      "cell_type": "code",
      "source": [
        "import pymysql\n",
        "import warnings\n",
        "\n",
        "warnings.filterwarnings('ignore')\n",
        "\n",
        "#MySQL Database connection parameters\n",
        "host = \"datatbase.ds2002.org\"\n",
        "user = 'cdw3pe'\n",
        "pwd = \"cdw3pe!\"\n",
        "db_name = \"cdw3pe\"\n",
        "\n",
        "#Connecting to the MySQL Database\n",
        "conn = pymysql.connect(host=host, user=user, password=pwd, database=db_name)\n",
        "\n",
        "#Creating a cursor to execute SQL commands\n",
        "cursor = conn.cursor()\n",
        "\n",
        "#Selecting the genre to find the average IMDb rating and the count of movies for each genre\n",
        "sql_query = \"\"\"\n",
        "SELECT movie_genre.genre, AVG(movie_rating.imdb_rating) AS avg_rating, COUNT(movie.id) AS movie_count\n",
        "FROM MovieGenres movie_genre\n",
        "JOIN Movies movie ON movie_genre.movie_id = movie.id\n",
        "JOIN MovieRatings movie_rating ON movie.id = movie_rating.movie_id\n",
        "GROUP BY movie_genre.genre;\n",
        "\"\"\"\n",
        "\n",
        "#Executing and storing the SQL query\n",
        "cursor.execute(sql_query)\n",
        "results = cursor.fetchall()\n",
        "\n",
        "#Printing the results from the SQL query\n",
        "for row in results:\n",
        "    genre = row[0]\n",
        "    avg_rating = row[1]\n",
        "    movie_count = row[2]\n",
        "    print(f\"Genre: {genre}, Average Rating: {avg_rating}, Movie Count: {movie_count}\")\n",
        "\n",
        "#Closing the cursor and connection\n",
        "conn.close()"
      ],
      "metadata": {
        "colab": {
          "base_uri": "https://localhost:8080/"
        },
        "id": "vazot-lXpqUb",
        "outputId": "14f2e46f-6e81-43de-f1cb-0e910356773d"
      },
      "execution_count": 195,
      "outputs": [
        {
          "output_type": "stream",
          "name": "stdout",
          "text": [
            "Genre: Drama, Average Rating: 6.9, Movie Count: 5\n",
            "Genre: Action, Average Rating: 6.9, Movie Count: 1\n",
            "Genre: Crime, Average Rating: 6.9, Movie Count: 1\n",
            "Genre: Reality-TV, Average Rating: 6.9, Movie Count: 1\n",
            "Genre: Romance, Average Rating: 7.033333333333334, Movie Count: 3\n",
            "Genre: Comedy, Average Rating: 6.8, Movie Count: 1\n",
            "Genre: Musical, Average Rating: 6.8, Movie Count: 1\n",
            "Genre: Family, Average Rating: 6.8, Movie Count: 1\n",
            "Genre: History, Average Rating: 6.8, Movie Count: 1\n"
          ]
        }
      ]
    }
  ]
}